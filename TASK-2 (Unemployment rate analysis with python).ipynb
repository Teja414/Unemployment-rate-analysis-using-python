{
 "cells": [
  {
   "cell_type": "markdown",
   "id": "97f9eefb",
   "metadata": {},
   "source": [
    "#### Libraries"
   ]
  },
  {
   "cell_type": "code",
   "execution_count": 1,
   "id": "1e4688ae",
   "metadata": {},
   "outputs": [],
   "source": [
    "import numpy as np\n",
    "import pandas as pd\n",
    "import matplotlib.pyplot as plt\n",
    "import seaborn as sns\n",
    "import scipy"
   ]
  },
  {
   "cell_type": "markdown",
   "id": "cf68b351",
   "metadata": {},
   "source": [
    "### Importing the data from csv file"
   ]
  },
  {
   "cell_type": "code",
   "execution_count": 2,
   "id": "9ce5f8d7",
   "metadata": {},
   "outputs": [],
   "source": [
    "df = pd.read_csv('Unemployment in india.csv')"
   ]
  },
  {
   "cell_type": "markdown",
   "id": "bd1fa64f",
   "metadata": {},
   "source": [
    "#### EDA"
   ]
  },
  {
   "cell_type": "code",
   "execution_count": 3,
   "id": "6c1051ca",
   "metadata": {},
   "outputs": [
    {
     "data": {
      "text/html": [
       "<div>\n",
       "<style scoped>\n",
       "    .dataframe tbody tr th:only-of-type {\n",
       "        vertical-align: middle;\n",
       "    }\n",
       "\n",
       "    .dataframe tbody tr th {\n",
       "        vertical-align: top;\n",
       "    }\n",
       "\n",
       "    .dataframe thead th {\n",
       "        text-align: right;\n",
       "    }\n",
       "</style>\n",
       "<table border=\"1\" class=\"dataframe\">\n",
       "  <thead>\n",
       "    <tr style=\"text-align: right;\">\n",
       "      <th></th>\n",
       "      <th>Region</th>\n",
       "      <th>Date</th>\n",
       "      <th>Frequency</th>\n",
       "      <th>Estimated Unemployment Rate (%)</th>\n",
       "      <th>Estimated Employed</th>\n",
       "      <th>Estimated Labour Participation Rate (%)</th>\n",
       "      <th>Area</th>\n",
       "    </tr>\n",
       "  </thead>\n",
       "  <tbody>\n",
       "    <tr>\n",
       "      <th>0</th>\n",
       "      <td>Andhra Pradesh</td>\n",
       "      <td>31-05-2019</td>\n",
       "      <td>Monthly</td>\n",
       "      <td>3.65</td>\n",
       "      <td>11999139.0</td>\n",
       "      <td>43.24</td>\n",
       "      <td>Rural</td>\n",
       "    </tr>\n",
       "    <tr>\n",
       "      <th>1</th>\n",
       "      <td>Andhra Pradesh</td>\n",
       "      <td>30-06-2019</td>\n",
       "      <td>Monthly</td>\n",
       "      <td>3.05</td>\n",
       "      <td>11755881.0</td>\n",
       "      <td>42.05</td>\n",
       "      <td>Rural</td>\n",
       "    </tr>\n",
       "    <tr>\n",
       "      <th>2</th>\n",
       "      <td>Andhra Pradesh</td>\n",
       "      <td>31-07-2019</td>\n",
       "      <td>Monthly</td>\n",
       "      <td>3.75</td>\n",
       "      <td>12086707.0</td>\n",
       "      <td>43.50</td>\n",
       "      <td>Rural</td>\n",
       "    </tr>\n",
       "    <tr>\n",
       "      <th>3</th>\n",
       "      <td>Andhra Pradesh</td>\n",
       "      <td>31-08-2019</td>\n",
       "      <td>Monthly</td>\n",
       "      <td>3.32</td>\n",
       "      <td>12285693.0</td>\n",
       "      <td>43.97</td>\n",
       "      <td>Rural</td>\n",
       "    </tr>\n",
       "    <tr>\n",
       "      <th>4</th>\n",
       "      <td>Andhra Pradesh</td>\n",
       "      <td>30-09-2019</td>\n",
       "      <td>Monthly</td>\n",
       "      <td>5.17</td>\n",
       "      <td>12256762.0</td>\n",
       "      <td>44.68</td>\n",
       "      <td>Rural</td>\n",
       "    </tr>\n",
       "  </tbody>\n",
       "</table>\n",
       "</div>"
      ],
      "text/plain": [
       "           Region         Date  Frequency   Estimated Unemployment Rate (%)  \\\n",
       "0  Andhra Pradesh   31-05-2019    Monthly                              3.65   \n",
       "1  Andhra Pradesh   30-06-2019    Monthly                              3.05   \n",
       "2  Andhra Pradesh   31-07-2019    Monthly                              3.75   \n",
       "3  Andhra Pradesh   31-08-2019    Monthly                              3.32   \n",
       "4  Andhra Pradesh   30-09-2019    Monthly                              5.17   \n",
       "\n",
       "    Estimated Employed   Estimated Labour Participation Rate (%)   Area  \n",
       "0           11999139.0                                     43.24  Rural  \n",
       "1           11755881.0                                     42.05  Rural  \n",
       "2           12086707.0                                     43.50  Rural  \n",
       "3           12285693.0                                     43.97  Rural  \n",
       "4           12256762.0                                     44.68  Rural  "
      ]
     },
     "execution_count": 3,
     "metadata": {},
     "output_type": "execute_result"
    }
   ],
   "source": [
    "df.head()"
   ]
  },
  {
   "cell_type": "markdown",
   "id": "5ee6bf94",
   "metadata": {},
   "source": [
    "#### Checking the shape of the data"
   ]
  },
  {
   "cell_type": "code",
   "execution_count": 4,
   "id": "503efb7c",
   "metadata": {},
   "outputs": [
    {
     "data": {
      "text/plain": [
       "(768, 7)"
      ]
     },
     "execution_count": 4,
     "metadata": {},
     "output_type": "execute_result"
    }
   ],
   "source": [
    "df.shape"
   ]
  },
  {
   "cell_type": "markdown",
   "id": "c74b2a2c",
   "metadata": {},
   "source": [
    "#### Checking for type of features"
   ]
  },
  {
   "cell_type": "code",
   "execution_count": 5,
   "id": "1fc1cb86",
   "metadata": {},
   "outputs": [
    {
     "data": {
      "text/plain": [
       "Region                                       object\n",
       " Date                                        object\n",
       " Frequency                                   object\n",
       " Estimated Unemployment Rate (%)            float64\n",
       " Estimated Employed                         float64\n",
       " Estimated Labour Participation Rate (%)    float64\n",
       "Area                                         object\n",
       "dtype: object"
      ]
     },
     "execution_count": 5,
     "metadata": {},
     "output_type": "execute_result"
    }
   ],
   "source": [
    "df.dtypes"
   ]
  },
  {
   "cell_type": "markdown",
   "id": "802d474e",
   "metadata": {},
   "source": [
    "#### Checking for NUll values if any"
   ]
  },
  {
   "cell_type": "code",
   "execution_count": 6,
   "id": "6169675f",
   "metadata": {},
   "outputs": [
    {
     "data": {
      "text/plain": [
       "Region                                      28\n",
       " Date                                       28\n",
       " Frequency                                  28\n",
       " Estimated Unemployment Rate (%)            28\n",
       " Estimated Employed                         28\n",
       " Estimated Labour Participation Rate (%)    28\n",
       "Area                                        28\n",
       "dtype: int64"
      ]
     },
     "execution_count": 6,
     "metadata": {},
     "output_type": "execute_result"
    }
   ],
   "source": [
    "df.isna().sum()"
   ]
  },
  {
   "cell_type": "markdown",
   "id": "7e4d9819",
   "metadata": {},
   "source": [
    "#### Dropping the NAN values"
   ]
  },
  {
   "cell_type": "code",
   "execution_count": 7,
   "id": "142c7058",
   "metadata": {},
   "outputs": [],
   "source": [
    "df.dropna(inplace = True)"
   ]
  },
  {
   "cell_type": "code",
   "execution_count": 8,
   "id": "83773a52",
   "metadata": {},
   "outputs": [
    {
     "data": {
      "text/plain": [
       "Region                                      0\n",
       " Date                                       0\n",
       " Frequency                                  0\n",
       " Estimated Unemployment Rate (%)            0\n",
       " Estimated Employed                         0\n",
       " Estimated Labour Participation Rate (%)    0\n",
       "Area                                        0\n",
       "dtype: int64"
      ]
     },
     "execution_count": 8,
     "metadata": {},
     "output_type": "execute_result"
    }
   ],
   "source": [
    "df.isna().sum()"
   ]
  },
  {
   "cell_type": "code",
   "execution_count": 9,
   "id": "77ccbe7b",
   "metadata": {},
   "outputs": [
    {
     "data": {
      "text/plain": [
       "(740, 7)"
      ]
     },
     "execution_count": 9,
     "metadata": {},
     "output_type": "execute_result"
    }
   ],
   "source": [
    "df.shape"
   ]
  },
  {
   "cell_type": "code",
   "execution_count": 10,
   "id": "6edd7e56",
   "metadata": {},
   "outputs": [
    {
     "data": {
      "text/plain": [
       "Index(['Region', ' Date', ' Frequency', ' Estimated Unemployment Rate (%)',\n",
       "       ' Estimated Employed', ' Estimated Labour Participation Rate (%)',\n",
       "       'Area'],\n",
       "      dtype='object')"
      ]
     },
     "execution_count": 10,
     "metadata": {},
     "output_type": "execute_result"
    }
   ],
   "source": [
    "df.columns"
   ]
  },
  {
   "cell_type": "markdown",
   "id": "e04cfa37",
   "metadata": {},
   "source": [
    "#### Statisitcal Description of the data"
   ]
  },
  {
   "cell_type": "code",
   "execution_count": 38,
   "id": "71e642b8",
   "metadata": {},
   "outputs": [
    {
     "data": {
      "text/html": [
       "<div>\n",
       "<style scoped>\n",
       "    .dataframe tbody tr th:only-of-type {\n",
       "        vertical-align: middle;\n",
       "    }\n",
       "\n",
       "    .dataframe tbody tr th {\n",
       "        vertical-align: top;\n",
       "    }\n",
       "\n",
       "    .dataframe thead th {\n",
       "        text-align: right;\n",
       "    }\n",
       "</style>\n",
       "<table border=\"1\" class=\"dataframe\">\n",
       "  <thead>\n",
       "    <tr style=\"text-align: right;\">\n",
       "      <th></th>\n",
       "      <th>Estimated Unemployment Rate (%)</th>\n",
       "      <th>Estimated Employed</th>\n",
       "      <th>Estimated Labour Participation Rate (%)</th>\n",
       "    </tr>\n",
       "  </thead>\n",
       "  <tbody>\n",
       "    <tr>\n",
       "      <th>count</th>\n",
       "      <td>740.000000</td>\n",
       "      <td>7.400000e+02</td>\n",
       "      <td>740.000000</td>\n",
       "    </tr>\n",
       "    <tr>\n",
       "      <th>mean</th>\n",
       "      <td>11.787946</td>\n",
       "      <td>7.204460e+06</td>\n",
       "      <td>42.630122</td>\n",
       "    </tr>\n",
       "    <tr>\n",
       "      <th>std</th>\n",
       "      <td>10.721298</td>\n",
       "      <td>8.087988e+06</td>\n",
       "      <td>8.111094</td>\n",
       "    </tr>\n",
       "    <tr>\n",
       "      <th>min</th>\n",
       "      <td>0.000000</td>\n",
       "      <td>4.942000e+04</td>\n",
       "      <td>13.330000</td>\n",
       "    </tr>\n",
       "    <tr>\n",
       "      <th>25%</th>\n",
       "      <td>4.657500</td>\n",
       "      <td>1.190404e+06</td>\n",
       "      <td>38.062500</td>\n",
       "    </tr>\n",
       "    <tr>\n",
       "      <th>50%</th>\n",
       "      <td>8.350000</td>\n",
       "      <td>4.744178e+06</td>\n",
       "      <td>41.160000</td>\n",
       "    </tr>\n",
       "    <tr>\n",
       "      <th>75%</th>\n",
       "      <td>15.887500</td>\n",
       "      <td>1.127549e+07</td>\n",
       "      <td>45.505000</td>\n",
       "    </tr>\n",
       "    <tr>\n",
       "      <th>max</th>\n",
       "      <td>76.740000</td>\n",
       "      <td>4.577751e+07</td>\n",
       "      <td>72.570000</td>\n",
       "    </tr>\n",
       "  </tbody>\n",
       "</table>\n",
       "</div>"
      ],
      "text/plain": [
       "        Estimated Unemployment Rate (%)   Estimated Employed  \\\n",
       "count                        740.000000         7.400000e+02   \n",
       "mean                          11.787946         7.204460e+06   \n",
       "std                           10.721298         8.087988e+06   \n",
       "min                            0.000000         4.942000e+04   \n",
       "25%                            4.657500         1.190404e+06   \n",
       "50%                            8.350000         4.744178e+06   \n",
       "75%                           15.887500         1.127549e+07   \n",
       "max                           76.740000         4.577751e+07   \n",
       "\n",
       "        Estimated Labour Participation Rate (%)  \n",
       "count                                740.000000  \n",
       "mean                                  42.630122  \n",
       "std                                    8.111094  \n",
       "min                                   13.330000  \n",
       "25%                                   38.062500  \n",
       "50%                                   41.160000  \n",
       "75%                                   45.505000  \n",
       "max                                   72.570000  "
      ]
     },
     "execution_count": 38,
     "metadata": {},
     "output_type": "execute_result"
    }
   ],
   "source": [
    "df.describe()"
   ]
  },
  {
   "cell_type": "code",
   "execution_count": 49,
   "id": "b664928f",
   "metadata": {},
   "outputs": [
    {
     "name": "stderr",
     "output_type": "stream",
     "text": [
      "C:\\Users\\saite\\AppData\\Local\\Temp\\ipykernel_18776\\1134722465.py:1: FutureWarning: The default value of numeric_only in DataFrame.corr is deprecated. In a future version, it will default to False. Select only valid columns or specify the value of numeric_only to silence this warning.\n",
      "  df.corr()\n"
     ]
    },
    {
     "data": {
      "text/html": [
       "<div>\n",
       "<style scoped>\n",
       "    .dataframe tbody tr th:only-of-type {\n",
       "        vertical-align: middle;\n",
       "    }\n",
       "\n",
       "    .dataframe tbody tr th {\n",
       "        vertical-align: top;\n",
       "    }\n",
       "\n",
       "    .dataframe thead th {\n",
       "        text-align: right;\n",
       "    }\n",
       "</style>\n",
       "<table border=\"1\" class=\"dataframe\">\n",
       "  <thead>\n",
       "    <tr style=\"text-align: right;\">\n",
       "      <th></th>\n",
       "      <th>Estimated Unemployment Rate (%)</th>\n",
       "      <th>Estimated Employed</th>\n",
       "      <th>Estimated Labour Participation Rate (%)</th>\n",
       "    </tr>\n",
       "  </thead>\n",
       "  <tbody>\n",
       "    <tr>\n",
       "      <th>Estimated Unemployment Rate (%)</th>\n",
       "      <td>1.000000</td>\n",
       "      <td>-0.222876</td>\n",
       "      <td>0.002558</td>\n",
       "    </tr>\n",
       "    <tr>\n",
       "      <th>Estimated Employed</th>\n",
       "      <td>-0.222876</td>\n",
       "      <td>1.000000</td>\n",
       "      <td>0.011300</td>\n",
       "    </tr>\n",
       "    <tr>\n",
       "      <th>Estimated Labour Participation Rate (%)</th>\n",
       "      <td>0.002558</td>\n",
       "      <td>0.011300</td>\n",
       "      <td>1.000000</td>\n",
       "    </tr>\n",
       "  </tbody>\n",
       "</table>\n",
       "</div>"
      ],
      "text/plain": [
       "                                           Estimated Unemployment Rate (%)  \\\n",
       " Estimated Unemployment Rate (%)                                  1.000000   \n",
       " Estimated Employed                                              -0.222876   \n",
       " Estimated Labour Participation Rate (%)                          0.002558   \n",
       "\n",
       "                                           Estimated Employed  \\\n",
       " Estimated Unemployment Rate (%)                    -0.222876   \n",
       " Estimated Employed                                  1.000000   \n",
       " Estimated Labour Participation Rate (%)             0.011300   \n",
       "\n",
       "                                           Estimated Labour Participation Rate (%)  \n",
       " Estimated Unemployment Rate (%)                                          0.002558  \n",
       " Estimated Employed                                                       0.011300  \n",
       " Estimated Labour Participation Rate (%)                                  1.000000  "
      ]
     },
     "execution_count": 49,
     "metadata": {},
     "output_type": "execute_result"
    }
   ],
   "source": [
    "df.corr()"
   ]
  },
  {
   "cell_type": "markdown",
   "id": "5ec5ba8d",
   "metadata": {},
   "source": [
    "-> Estimates Unemployment Rate and Estimated employement rate are negatively correalted which means if one goes high another will go in the opposite direction\n",
    "-> Estimated Labour Participationi Rate is almost near to 0 for both Estimated Unemployment rate and Estimate Employed so it has almost no correalatin with that features"
   ]
  },
  {
   "cell_type": "markdown",
   "id": "84169328",
   "metadata": {},
   "source": [
    "#### Coverting Date to Datetime format from Object type"
   ]
  },
  {
   "cell_type": "code",
   "execution_count": 11,
   "id": "479114e0",
   "metadata": {},
   "outputs": [],
   "source": [
    "df[' Date'] = pd.to_datetime(df[' Date'])"
   ]
  },
  {
   "cell_type": "code",
   "execution_count": 12,
   "id": "7bbc93bd",
   "metadata": {},
   "outputs": [
    {
     "data": {
      "text/plain": [
       "Region                                              object\n",
       " Date                                       datetime64[ns]\n",
       " Frequency                                          object\n",
       " Estimated Unemployment Rate (%)                   float64\n",
       " Estimated Employed                                float64\n",
       " Estimated Labour Participation Rate (%)           float64\n",
       "Area                                                object\n",
       "dtype: object"
      ]
     },
     "execution_count": 12,
     "metadata": {},
     "output_type": "execute_result"
    }
   ],
   "source": [
    "df.dtypes"
   ]
  },
  {
   "cell_type": "code",
   "execution_count": 13,
   "id": "b74a3e84",
   "metadata": {},
   "outputs": [
    {
     "data": {
      "text/html": [
       "<div>\n",
       "<style scoped>\n",
       "    .dataframe tbody tr th:only-of-type {\n",
       "        vertical-align: middle;\n",
       "    }\n",
       "\n",
       "    .dataframe tbody tr th {\n",
       "        vertical-align: top;\n",
       "    }\n",
       "\n",
       "    .dataframe thead th {\n",
       "        text-align: right;\n",
       "    }\n",
       "</style>\n",
       "<table border=\"1\" class=\"dataframe\">\n",
       "  <thead>\n",
       "    <tr style=\"text-align: right;\">\n",
       "      <th></th>\n",
       "      <th>Region</th>\n",
       "      <th>Date</th>\n",
       "      <th>Frequency</th>\n",
       "      <th>Estimated Unemployment Rate (%)</th>\n",
       "      <th>Estimated Employed</th>\n",
       "      <th>Estimated Labour Participation Rate (%)</th>\n",
       "      <th>Area</th>\n",
       "    </tr>\n",
       "  </thead>\n",
       "  <tbody>\n",
       "    <tr>\n",
       "      <th>0</th>\n",
       "      <td>Andhra Pradesh</td>\n",
       "      <td>2019-05-31</td>\n",
       "      <td>Monthly</td>\n",
       "      <td>3.65</td>\n",
       "      <td>11999139.0</td>\n",
       "      <td>43.24</td>\n",
       "      <td>Rural</td>\n",
       "    </tr>\n",
       "    <tr>\n",
       "      <th>1</th>\n",
       "      <td>Andhra Pradesh</td>\n",
       "      <td>2019-06-30</td>\n",
       "      <td>Monthly</td>\n",
       "      <td>3.05</td>\n",
       "      <td>11755881.0</td>\n",
       "      <td>42.05</td>\n",
       "      <td>Rural</td>\n",
       "    </tr>\n",
       "  </tbody>\n",
       "</table>\n",
       "</div>"
      ],
      "text/plain": [
       "           Region       Date  Frequency   Estimated Unemployment Rate (%)  \\\n",
       "0  Andhra Pradesh 2019-05-31    Monthly                              3.65   \n",
       "1  Andhra Pradesh 2019-06-30    Monthly                              3.05   \n",
       "\n",
       "    Estimated Employed   Estimated Labour Participation Rate (%)   Area  \n",
       "0           11999139.0                                     43.24  Rural  \n",
       "1           11755881.0                                     42.05  Rural  "
      ]
     },
     "execution_count": 13,
     "metadata": {},
     "output_type": "execute_result"
    }
   ],
   "source": [
    "df.head(2)"
   ]
  },
  {
   "cell_type": "markdown",
   "id": "95d198bb",
   "metadata": {},
   "source": [
    "#### Checking for unique values"
   ]
  },
  {
   "cell_type": "code",
   "execution_count": 14,
   "id": "2baa1144",
   "metadata": {},
   "outputs": [
    {
     "data": {
      "text/plain": [
       "array([' Monthly', 'Monthly'], dtype=object)"
      ]
     },
     "execution_count": 14,
     "metadata": {},
     "output_type": "execute_result"
    }
   ],
   "source": [
    "df[' Frequency'].unique()"
   ]
  },
  {
   "cell_type": "code",
   "execution_count": 15,
   "id": "5a2dd6b3",
   "metadata": {},
   "outputs": [
    {
     "data": {
      "text/plain": [
       "array(['Rural', 'Urban'], dtype=object)"
      ]
     },
     "execution_count": 15,
     "metadata": {},
     "output_type": "execute_result"
    }
   ],
   "source": [
    "df['Area'].unique()"
   ]
  },
  {
   "cell_type": "markdown",
   "id": "8ef8f265",
   "metadata": {},
   "source": [
    "#### Dropping Frequency column as it does not had any weightage to the analysis"
   ]
  },
  {
   "cell_type": "code",
   "execution_count": 16,
   "id": "bfcd9a9a",
   "metadata": {},
   "outputs": [
    {
     "data": {
      "text/html": [
       "<div>\n",
       "<style scoped>\n",
       "    .dataframe tbody tr th:only-of-type {\n",
       "        vertical-align: middle;\n",
       "    }\n",
       "\n",
       "    .dataframe tbody tr th {\n",
       "        vertical-align: top;\n",
       "    }\n",
       "\n",
       "    .dataframe thead th {\n",
       "        text-align: right;\n",
       "    }\n",
       "</style>\n",
       "<table border=\"1\" class=\"dataframe\">\n",
       "  <thead>\n",
       "    <tr style=\"text-align: right;\">\n",
       "      <th></th>\n",
       "      <th>Region</th>\n",
       "      <th>Date</th>\n",
       "      <th>Estimated Unemployment Rate (%)</th>\n",
       "      <th>Estimated Employed</th>\n",
       "      <th>Estimated Labour Participation Rate (%)</th>\n",
       "      <th>Area</th>\n",
       "    </tr>\n",
       "  </thead>\n",
       "  <tbody>\n",
       "    <tr>\n",
       "      <th>0</th>\n",
       "      <td>Andhra Pradesh</td>\n",
       "      <td>2019-05-31</td>\n",
       "      <td>3.65</td>\n",
       "      <td>11999139.0</td>\n",
       "      <td>43.24</td>\n",
       "      <td>Rural</td>\n",
       "    </tr>\n",
       "    <tr>\n",
       "      <th>1</th>\n",
       "      <td>Andhra Pradesh</td>\n",
       "      <td>2019-06-30</td>\n",
       "      <td>3.05</td>\n",
       "      <td>11755881.0</td>\n",
       "      <td>42.05</td>\n",
       "      <td>Rural</td>\n",
       "    </tr>\n",
       "    <tr>\n",
       "      <th>2</th>\n",
       "      <td>Andhra Pradesh</td>\n",
       "      <td>2019-07-31</td>\n",
       "      <td>3.75</td>\n",
       "      <td>12086707.0</td>\n",
       "      <td>43.50</td>\n",
       "      <td>Rural</td>\n",
       "    </tr>\n",
       "    <tr>\n",
       "      <th>3</th>\n",
       "      <td>Andhra Pradesh</td>\n",
       "      <td>2019-08-31</td>\n",
       "      <td>3.32</td>\n",
       "      <td>12285693.0</td>\n",
       "      <td>43.97</td>\n",
       "      <td>Rural</td>\n",
       "    </tr>\n",
       "    <tr>\n",
       "      <th>4</th>\n",
       "      <td>Andhra Pradesh</td>\n",
       "      <td>2019-09-30</td>\n",
       "      <td>5.17</td>\n",
       "      <td>12256762.0</td>\n",
       "      <td>44.68</td>\n",
       "      <td>Rural</td>\n",
       "    </tr>\n",
       "  </tbody>\n",
       "</table>\n",
       "</div>"
      ],
      "text/plain": [
       "           Region       Date   Estimated Unemployment Rate (%)  \\\n",
       "0  Andhra Pradesh 2019-05-31                              3.65   \n",
       "1  Andhra Pradesh 2019-06-30                              3.05   \n",
       "2  Andhra Pradesh 2019-07-31                              3.75   \n",
       "3  Andhra Pradesh 2019-08-31                              3.32   \n",
       "4  Andhra Pradesh 2019-09-30                              5.17   \n",
       "\n",
       "    Estimated Employed   Estimated Labour Participation Rate (%)   Area  \n",
       "0           11999139.0                                     43.24  Rural  \n",
       "1           11755881.0                                     42.05  Rural  \n",
       "2           12086707.0                                     43.50  Rural  \n",
       "3           12285693.0                                     43.97  Rural  \n",
       "4           12256762.0                                     44.68  Rural  "
      ]
     },
     "execution_count": 16,
     "metadata": {},
     "output_type": "execute_result"
    }
   ],
   "source": [
    "df.drop(columns = [' Frequency'],inplace = True)\n",
    "df.head()"
   ]
  },
  {
   "cell_type": "markdown",
   "id": "bea90f85",
   "metadata": {},
   "source": [
    "#### Understanding the unemployement rate of Andhra Pradesh with respective date feature"
   ]
  },
  {
   "cell_type": "code",
   "execution_count": 106,
   "id": "5f646848",
   "metadata": {},
   "outputs": [
    {
     "data": {
      "text/plain": [
       "<matplotlib.legend.Legend at 0x29f684090f0>"
      ]
     },
     "execution_count": 106,
     "metadata": {},
     "output_type": "execute_result"
    },
    {
     "data": {
      "image/png": "[encoded data removed]",
      "text/plain": [
       "<Figure size 1008x432 with 1 Axes>"
      ]
     },
     "metadata": {
      "needs_background": "light"
     },
     "output_type": "display_data"
    }
   ],
   "source": [
    "plt.figure(figsize=(14, 6))\n",
    "plt.bar(df[df.Region == 'Andhra Pradesh'][' Date'],df[df.Region == 'Andhra Pradesh'][' Estimated Unemployment Rate (%)'],color='b', width=0.5, edgecolor='k', linewidth=2, label='Andra Pradesh Unemployment rate')\n",
    "plt.legend()"
   ]
  },
  {
   "cell_type": "markdown",
   "id": "6f382c4e",
   "metadata": {},
   "source": [
    "##### When covid hit we can see that unemployement rate is max in AP in month of may 2020. Then the rate is continued to be high and graduually decreasing as the situation becoming normal for business all over the world"
   ]
  },
  {
   "cell_type": "markdown",
   "id": "b3dc7918",
   "metadata": {},
   "source": [
    "#### If we compare rural to urban unemployement rate, it is high in rural areas as agriculture is continued some means where the jobs cant be taken due to lockdown things all over the country"
   ]
  },
  {
   "cell_type": "code",
   "execution_count": 172,
   "id": "547a3fbc",
   "metadata": {},
   "outputs": [
    {
     "data": {
      "text/plain": [
       "<BarContainer object of 28 artists>"
      ]
     },
     "execution_count": 172,
     "metadata": {},
     "output_type": "execute_result"
    },
    {
     "data": {
      "image/png": "[encoded data removed]",
      "text/plain": [
       "<Figure size 432x288 with 1 Axes>"
      ]
     },
     "metadata": {
      "needs_background": "light"
     },
     "output_type": "display_data"
    }
   ],
   "source": [
    "plt.bar(df[df.Region == 'Andhra Pradesh']['Area'],df[df.Region == 'Andhra Pradesh'][' Estimated Unemployment Rate (%)'],color='b', width=0.5, edgecolor='k', linewidth=5, label='Andra Pradesh Unemployment rate')"
   ]
  },
  {
   "cell_type": "markdown",
   "id": "527853f0",
   "metadata": {},
   "source": [
    "#### Comparision of unemployment rate of Ap with Area feature"
   ]
  },
  {
   "cell_type": "code",
   "execution_count": 37,
   "id": "73d95fc9",
   "metadata": {},
   "outputs": [
    {
     "data": {
      "text/plain": [
       "<matplotlib.legend.Legend at 0x1f4729e1c60>"
      ]
     },
     "execution_count": 37,
     "metadata": {},
     "output_type": "execute_result"
    },
    {
     "data": {
      "image/png": "[encoded data removed]",
      "text/plain": [
       "<Figure size 1008x432 with 1 Axes>"
      ]
     },
     "metadata": {
      "needs_background": "light"
     },
     "output_type": "display_data"
    }
   ],
   "source": [
    "plt.figure(figsize=(14, 6))\n",
    "plt.scatter(df[(df['Region'] == 'Andhra Pradesh') & (df['Area'] == 'Rural')][' Date'],df[(df['Region'] == 'Andhra Pradesh') & (df['Area'] == 'Rural')][' Estimated Unemployment Rate (%)'],color='b', label='Andra Pradesh Rural Unemployment rate')\n",
    "plt.scatter(df[(df['Region'] == 'Andhra Pradesh') & (df['Area'] == 'Urban')][' Date'],df[(df['Region'] == 'Andhra Pradesh') & (df['Area'] == 'Urban')][' Estimated Unemployment Rate (%)'],color='r', label='Andra Pradesh Urban Unemployment rate')\n",
    "plt.legend()"
   ]
  },
  {
   "cell_type": "markdown",
   "id": "dbaca680",
   "metadata": {},
   "source": [
    "-> We can observe that urban unemployement rate is always greater than the rural as rural depends mostly on agriculture jobs. \n",
    "-> The rural has greatest of the unemployment when covid hit i.e in May-2020 but not have greater values than urban jobs.\n",
    "-> For whole AP the unemployment if high in urban and started to decline a bit when compared to covid hit but not that exponetial. \n",
    "-> whereas Rural sector recoverd well a bit"
   ]
  },
  {
   "cell_type": "markdown",
   "id": "30446bbc",
   "metadata": {},
   "source": [
    "#### Creating dataframes for data before covid and after covid based on area\n"
   ]
  },
  {
   "cell_type": "code",
   "execution_count": 75,
   "id": "4755b31f",
   "metadata": {},
   "outputs": [],
   "source": [
    "before_covid_rural = df[(df['Area'] == 'Rural') & (~df[' Date'].isin(['2020-03-31','2020-04-30','2020-05-31', '2020-06-30']))]\n",
    "before_covid_urban = df[(df['Area'] == 'Urban') & (~df[' Date'].isin(['2020-03-31','2020-04-30','2020-05-31', '2020-06-30']))]\n",
    "after_covid_rural = df[(df['Area'] == 'Rural') & (df[' Date'].isin(['2020-03-31','2020-04-30','2020-05-31', '2020-06-30']))]\n",
    "after_covid_urban = df[(df['Area'] == 'Urban') & (df[' Date'].isin(['2020-03-31','2020-04-30','2020-05-31', '2020-06-30']))]"
   ]
  },
  {
   "cell_type": "markdown",
   "id": "d1f4878f",
   "metadata": {},
   "source": [
    "##### Before  and covid in rural areas unemployment rate stats\n",
    "\n",
    "\\"
   ]
  },
  {
   "cell_type": "code",
   "execution_count": 150,
   "id": "a5cdf8a9",
   "metadata": {},
   "outputs": [],
   "source": [
    "temp1 = before_covid_rural[before_covid_rural[' Estimated Unemployment Rate (%)'] ==before_covid_rural[' Estimated Unemployment Rate (%)'].max()]\n",
    "temp2 = before_covid_rural[before_covid_rural[' Estimated Unemployment Rate (%)'] ==before_covid_rural[' Estimated Unemployment Rate (%)'].min()]\n",
    "temp3 = after_covid_rural[after_covid_rural[' Estimated Unemployment Rate (%)'] ==after_covid_rural[' Estimated Unemployment Rate (%)'].max()]\n",
    "temp4 = after_covid_rural[after_covid_rural[' Estimated Unemployment Rate (%)'] ==after_covid_rural[' Estimated Unemployment Rate (%)'].min()]"
   ]
  },
  {
   "cell_type": "code",
   "execution_count": 145,
   "id": "eb63bc2f",
   "metadata": {},
   "outputs": [
    {
     "name": "stdout",
     "output_type": "stream",
     "text": [
      "MAXIMUM unemployment rate before Covid in Rural is in state of * 312    Tripura\n",
      "Name: Region, dtype: object *with Estimated uNemployment rate of 312    31.91\n",
      "Name:  Estimated Unemployment Rate (%), dtype: float64\n",
      "\n",
      "*******\n",
      "MINIMUM unemployment rate before Covid in Rural is in state of * Goa  * and *  Puducherry * with Estimated uNemployment rate of 77    0.0\n",
      "Name:  Estimated Unemployment Rate (%), dtype: float64\n"
     ]
    }
   ],
   "source": [
    "print(\"MAXIMUM unemployment rate before Covid in Rural is in state of *\",temp1.Region,'*with Estimated uNemployment rate of',temp1[' Estimated Unemployment Rate (%)'])\n",
    "print()\n",
    "print(\"*******\")\n",
    "print(\"MINIMUM unemployment rate before Covid in Rural is in state of *\",temp2.Region.iloc[0],' * and * ',temp2.Region.iloc[1],'* with Estimated uNemployment rate of',temp2[' Estimated Unemployment Rate (%)'].iloc[:1])"
   ]
  },
  {
   "cell_type": "code",
   "execution_count": 151,
   "id": "3c37160d",
   "metadata": {},
   "outputs": [
    {
     "name": "stdout",
     "output_type": "stream",
     "text": [
      "MAXIMUM unemployment rate after Covid in Rural is in state of * 242    Puducherry\n",
      "Name: Region, dtype: object *with Estimated uNemployment rate of 242    74.51\n",
      "Name:  Estimated Unemployment Rate (%), dtype: float64\n",
      "\n",
      "*******\n",
      "MINIMUM unemployment rate after Covid in Rural is in state of * Assam  * and *  Chhattisgarh * with Estimated uNemployment rate of 25    0.0\n",
      "Name:  Estimated Unemployment Rate (%), dtype: float64\n"
     ]
    }
   ],
   "source": [
    "print(\"MAXIMUM unemployment rate after Covid in Rural is in state of *\",temp3.Region,'*with Estimated uNemployment rate of',temp3[' Estimated Unemployment Rate (%)'])\n",
    "print()\n",
    "print(\"*******\")\n",
    "print(\"MINIMUM unemployment rate after Covid in Rural is in state of *\",temp4.Region.iloc[0],' * and * ',temp4.Region.iloc[1],'* with Estimated uNemployment rate of',temp4[' Estimated Unemployment Rate (%)'].iloc[:1])"
   ]
  },
  {
   "cell_type": "markdown",
   "id": "8dce8eba",
   "metadata": {},
   "source": [
    "#####  before and after covid the unemployment rate stats"
   ]
  },
  {
   "cell_type": "code",
   "execution_count": 152,
   "id": "419c84de",
   "metadata": {},
   "outputs": [],
   "source": [
    "temp1 = before_covid_urban[before_covid_urban[' Estimated Unemployment Rate (%)'] ==before_covid_urban[' Estimated Unemployment Rate (%)'].max()]\n",
    "temp2 = before_covid_urban[before_covid_urban[' Estimated Unemployment Rate (%)'] ==before_covid_urban[' Estimated Unemployment Rate (%)'].min()]\n",
    "temp3 = after_covid_urban[after_covid_urban[' Estimated Unemployment Rate (%)'] ==after_covid_urban[' Estimated Unemployment Rate (%)'].max()]\n",
    "temp4 = after_covid_urban[after_covid_urban[' Estimated Unemployment Rate (%)'] ==after_covid_urban[' Estimated Unemployment Rate (%)'].min()]"
   ]
  },
  {
   "cell_type": "code",
   "execution_count": 153,
   "id": "f1d4c660",
   "metadata": {},
   "outputs": [
    {
     "name": "stdout",
     "output_type": "stream",
     "text": [
      "MAXIMUM unemployment rate before Covid in Urban is in state of * 698    Tripura\n",
      "Name: Region, dtype: object *with Estimated uNemployment rate of 698    34.69\n",
      "Name:  Estimated Unemployment Rate (%), dtype: float64\n",
      "\n",
      "*******\n",
      "MINIMUM unemployment rate before Covid in Urban is in state of * Puducherry  * and *  Puducherry * with Estimated uNemployment rate of 617    0.0\n",
      "Name:  Estimated Unemployment Rate (%), dtype: float64\n"
     ]
    }
   ],
   "source": [
    "print(\"MAXIMUM unemployment rate before Covid in Urban is in state of *\",temp1.Region,'*with Estimated uNemployment rate of',temp1[' Estimated Unemployment Rate (%)'])\n",
    "print()\n",
    "print(\"*******\")\n",
    "print(\"MINIMUM unemployment rate before Covid in Urban is in state of *\",temp2.Region.iloc[0],' * and * ',temp2.Region.iloc[1],'* with Estimated uNemployment rate of',temp2[' Estimated Unemployment Rate (%)'].iloc[:1])"
   ]
  },
  {
   "cell_type": "code",
   "execution_count": 155,
   "id": "51e85082",
   "metadata": {},
   "outputs": [
    {
     "name": "stdout",
     "output_type": "stream",
     "text": [
      "MAXIMUM unemployment rate after Covid in URBAN is in state of * 627    Puducherry\n",
      "Name: Region, dtype: object *with Estimated uNemployment rate of 627    76.74\n",
      "Name:  Estimated Unemployment Rate (%), dtype: float64\n",
      "\n",
      "*******\n",
      "MINIMUM unemployment rate after Covid in URBAN is in state of * Puducherry  * and *  * with Estimated uNemployment rate of 626    0.62\n",
      "Name:  Estimated Unemployment Rate (%), dtype: float64\n"
     ]
    }
   ],
   "source": [
    "print(\"MAXIMUM unemployment rate after Covid in URBAN is in state of *\",temp3.Region,'*with Estimated uNemployment rate of',temp3[' Estimated Unemployment Rate (%)'])\n",
    "print()\n",
    "print(\"*******\")\n",
    "print(\"MINIMUM unemployment rate after Covid in URBAN is in state of *\",temp4.Region.iloc[0],' * and * ','* with Estimated uNemployment rate of',temp4[' Estimated Unemployment Rate (%)'].iloc[:1])"
   ]
  },
  {
   "cell_type": "code",
   "execution_count": 117,
   "id": "9b080ae0",
   "metadata": {},
   "outputs": [
    {
     "data": {
      "text/html": [
       "<div>\n",
       "<style scoped>\n",
       "    .dataframe tbody tr th:only-of-type {\n",
       "        vertical-align: middle;\n",
       "    }\n",
       "\n",
       "    .dataframe tbody tr th {\n",
       "        vertical-align: top;\n",
       "    }\n",
       "\n",
       "    .dataframe thead th {\n",
       "        text-align: right;\n",
       "    }\n",
       "</style>\n",
       "<table border=\"1\" class=\"dataframe\">\n",
       "  <thead>\n",
       "    <tr style=\"text-align: right;\">\n",
       "      <th></th>\n",
       "      <th>Estimated Unemployment Rate (%)</th>\n",
       "      <th>Estimated Employed</th>\n",
       "      <th>Estimated Labour Participation Rate (%)</th>\n",
       "    </tr>\n",
       "  </thead>\n",
       "  <tbody>\n",
       "    <tr>\n",
       "      <th>count</th>\n",
       "      <td>260.000000</td>\n",
       "      <td>2.600000e+02</td>\n",
       "      <td>260.000000</td>\n",
       "    </tr>\n",
       "    <tr>\n",
       "      <th>mean</th>\n",
       "      <td>8.094808</td>\n",
       "      <td>1.053284e+07</td>\n",
       "      <td>45.562538</td>\n",
       "    </tr>\n",
       "    <tr>\n",
       "      <th>std</th>\n",
       "      <td>6.737296</td>\n",
       "      <td>1.007413e+07</td>\n",
       "      <td>8.410931</td>\n",
       "    </tr>\n",
       "    <tr>\n",
       "      <th>min</th>\n",
       "      <td>0.000000</td>\n",
       "      <td>1.354070e+05</td>\n",
       "      <td>32.710000</td>\n",
       "    </tr>\n",
       "    <tr>\n",
       "      <th>25%</th>\n",
       "      <td>3.695000</td>\n",
       "      <td>2.023695e+06</td>\n",
       "      <td>39.802500</td>\n",
       "    </tr>\n",
       "    <tr>\n",
       "      <th>50%</th>\n",
       "      <td>5.790000</td>\n",
       "      <td>7.900569e+06</td>\n",
       "      <td>43.210000</td>\n",
       "    </tr>\n",
       "    <tr>\n",
       "      <th>75%</th>\n",
       "      <td>10.822500</td>\n",
       "      <td>1.504344e+07</td>\n",
       "      <td>48.507500</td>\n",
       "    </tr>\n",
       "    <tr>\n",
       "      <th>max</th>\n",
       "      <td>31.910000</td>\n",
       "      <td>4.577751e+07</td>\n",
       "      <td>72.570000</td>\n",
       "    </tr>\n",
       "  </tbody>\n",
       "</table>\n",
       "</div>"
      ],
      "text/plain": [
       "        Estimated Unemployment Rate (%)   Estimated Employed  \\\n",
       "count                        260.000000         2.600000e+02   \n",
       "mean                           8.094808         1.053284e+07   \n",
       "std                            6.737296         1.007413e+07   \n",
       "min                            0.000000         1.354070e+05   \n",
       "25%                            3.695000         2.023695e+06   \n",
       "50%                            5.790000         7.900569e+06   \n",
       "75%                           10.822500         1.504344e+07   \n",
       "max                           31.910000         4.577751e+07   \n",
       "\n",
       "        Estimated Labour Participation Rate (%)  \n",
       "count                                260.000000  \n",
       "mean                                  45.562538  \n",
       "std                                    8.410931  \n",
       "min                                   32.710000  \n",
       "25%                                   39.802500  \n",
       "50%                                   43.210000  \n",
       "75%                                   48.507500  \n",
       "max                                   72.570000  "
      ]
     },
     "execution_count": 117,
     "metadata": {},
     "output_type": "execute_result"
    }
   ],
   "source": [
    "before_covid_rural.describe()"
   ]
  },
  {
   "cell_type": "code",
   "execution_count": 78,
   "id": "0137d441",
   "metadata": {},
   "outputs": [
    {
     "data": {
      "text/plain": [
       "<matplotlib.collections.PathCollection at 0x1f476411990>"
      ]
     },
     "execution_count": 78,
     "metadata": {},
     "output_type": "execute_result"
    },
    {
     "data": {
      "image/png": "[encoded data removed]",
      "text/plain": [
       "<Figure size 720x432 with 1 Axes>"
      ]
     },
     "metadata": {
      "needs_background": "light"
     },
     "output_type": "display_data"
    }
   ],
   "source": [
    "plt.figure(figsize=(10,6))\n",
    "plt.scatter(after_covid_rural[' Date'],after_covid_rural[' Estimated Unemployment Rate (%)'])"
   ]
  },
  {
   "cell_type": "markdown",
   "id": "5645aceb",
   "metadata": {},
   "source": [
    "#### INSIGHTS FroM THE DATA"
   ]
  },
  {
   "cell_type": "markdown",
   "id": "353a4ede",
   "metadata": {},
   "source": [
    "-> The overall unemployment rate is minimum in Pondicherry and Goa before coivd with 0.0%\n",
    "-> The overall Unemployment rate is maximum in Podicherry after covid with 76.74%\n",
    "-> Pondicherry is the most effected state according to the stats\n",
    "-> well recovered states in rural area after covid are Assam and Chattisgarh\n",
    "-> on compared to rural areas urban areas are most effected by covid \n",
    "-> As rural people depend on agriculture jobs most of them survived the covid as agriculture is given priority to work during lockdown\n",
    "-> while Urban people lost their jobs and the unemployment rate increased in covid hit months like April,May and june where the first lockdown initiated.\n"
   ]
  },
  {
   "cell_type": "code",
   "execution_count": null,
   "id": "b0605bcf",
   "metadata": {},
   "outputs": [],
   "source": []
  }
 ],
 "metadata": {
  "kernelspec": {
   "display_name": "Python 3 (ipykernel)",
   "language": "python",
   "name": "python3"
  },
  "language_info": {
   "codemirror_mode": {
    "name": "ipython",
    "version": 3
   },
   "file_extension": ".py",
   "mimetype": "text/x-python",
   "name": "python",
   "nbconvert_exporter": "python",
   "pygments_lexer": "ipython3",
   "version": "3.10.2"
  }
 },
 "nbformat": 4,
 "nbformat_minor": 5
}
